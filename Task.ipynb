{
 "cells": [
  {
   "cell_type": "markdown",
   "id": "12d7da09",
   "metadata": {},
   "source": [
    "Lasso for Marketing ROI"
   ]
  },
  {
   "cell_type": "code",
   "execution_count": 12,
   "id": "d570aac2",
   "metadata": {},
   "outputs": [],
   "source": [
    "import pandas as pd\n",
    "import numpy as np\n",
    "from sklearn.linear_model import LinearRegression, LassoCV\n",
    "from sklearn.metrics import mean_squared_error, r2_score\n",
    "\n",
    "df = pd.read_csv(\"marketing_lasso.csv\")\n",
    "\n",
    "X = df[[\"TV_spend\", \"radio_spend\", \"social_media_spend\", \n",
    "        \"newspaper_spend\", \"billboard_spend\", \n",
    "        \"influencer_spend\", \"email_spend\"]]\n",
    "y = df[\"sales_k\"]"
   ]
  },
  {
   "cell_type": "markdown",
   "id": "97c92aa8",
   "metadata": {},
   "source": [
    "OLS Coefficients"
   ]
  },
  {
   "cell_type": "code",
   "execution_count": 19,
   "id": "fac5bbbf",
   "metadata": {},
   "outputs": [
    {
     "name": "stdout",
     "output_type": "stream",
     "text": [
      "OLS Coefficients:\n",
      "TV_spend              0.049776\n",
      "radio_spend           0.220712\n",
      "social_media_spend    0.445416\n",
      "newspaper_spend      -0.016716\n",
      "billboard_spend       0.048007\n",
      "influencer_spend      0.292541\n",
      "email_spend          -0.002657\n",
      "dtype: float64\n"
     ]
    }
   ],
   "source": [
    "ols = LinearRegression()\n",
    "ols.fit(X, y)\n",
    "ols_coefs = pd.Series(ols.coef_, index=X.columns)\n",
    "\n",
    "print(\"OLS Coefficients:\")\n",
    "print(ols_coefs)"
   ]
  },
  {
   "cell_type": "markdown",
   "id": "7c408e32",
   "metadata": {},
   "source": [
    "Lasso Coefficients"
   ]
  },
  {
   "cell_type": "code",
   "execution_count": 20,
   "id": "cf7a3286",
   "metadata": {},
   "outputs": [
    {
     "name": "stdout",
     "output_type": "stream",
     "text": [
      "Lasso Coefficients :\n",
      "TV_spend              0.049496\n",
      "radio_spend           0.216257\n",
      "social_media_spend    0.437141\n",
      "newspaper_spend      -0.007097\n",
      "billboard_spend       0.045948\n",
      "influencer_spend      0.290973\n",
      "dtype: float64\n"
     ]
    }
   ],
   "source": [
    "lasso = LassoCV(alphas=np.logspace(-3, 3, 100), cv=5, random_state=42)\n",
    "lasso.fit(X, y)\n",
    "lasso_coefs = pd.Series(lasso.coef_, index=X.columns)\n",
    "\n",
    "print(\"Lasso Coefficients :\")\n",
    "print(lasso_coefs[lasso_coefs != 0])"
   ]
  },
  {
   "cell_type": "markdown",
   "id": "2146b0d9",
   "metadata": {},
   "source": [
    "OLS -> RMSE ,R²"
   ]
  },
  {
   "cell_type": "code",
   "execution_count": 22,
   "id": "eec40e21",
   "metadata": {},
   "outputs": [
    {
     "name": "stdout",
     "output_type": "stream",
     "text": [
      "\n",
      "OLS -> RMSE: 2.9857\n",
      "OLS -> R²: 0.8948\n"
     ]
    }
   ],
   "source": [
    "y_pred_ols = ols.predict(X)\n",
    "y_pred_lasso = lasso.predict(X)\n",
    "\n",
    "ols_rmse = np.sqrt(mean_squared_error(y, y_pred_ols))\n",
    "ols_r2 = r2_score(y, y_pred_ols)\n",
    "\n",
    "print(f\"\\nOLS -> RMSE: {ols_rmse:.4f}\")\n",
    "print(f\"OLS -> R²: {ols_r2:.4f}\")"
   ]
  },
  {
   "cell_type": "markdown",
   "id": "3454d782",
   "metadata": {},
   "source": [
    "LASSO -> RMSE ,R² & Best Alpha (λ)"
   ]
  },
  {
   "cell_type": "code",
   "execution_count": 21,
   "id": "df2dab3f",
   "metadata": {},
   "outputs": [
    {
     "name": "stdout",
     "output_type": "stream",
     "text": [
      "Lasso -> RMSE: 2.9892\n",
      "Lasso -> R²: 0.8945\n",
      "Best Alpha (λ): 0.8111\n"
     ]
    }
   ],
   "source": [
    "lasso_rmse = np.sqrt(mean_squared_error(y, y_pred_lasso))\n",
    "lasso_r2 = r2_score(y, y_pred_lasso)\n",
    "\n",
    "print(f\"Lasso -> RMSE: {lasso_rmse:.4f}\")\n",
    "print(f\"Lasso -> R²: {lasso_r2:.4f}\")\n",
    "print(f\"Best Alpha (λ): {lasso.alpha_:.4f}\")"
   ]
  }
 ],
 "metadata": {
  "kernelspec": {
   "display_name": ".venv",
   "language": "python",
   "name": "python3"
  },
  "language_info": {
   "codemirror_mode": {
    "name": "ipython",
    "version": 3
   },
   "file_extension": ".py",
   "mimetype": "text/x-python",
   "name": "python",
   "nbconvert_exporter": "python",
   "pygments_lexer": "ipython3",
   "version": "3.13.7"
  }
 },
 "nbformat": 4,
 "nbformat_minor": 5
}
